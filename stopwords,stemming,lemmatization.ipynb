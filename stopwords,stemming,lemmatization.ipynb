{
 "cells": [
  {
   "cell_type": "markdown",
   "metadata": {},
   "source": [
    "## Stopwords"
   ]
  },
  {
   "cell_type": "code",
   "execution_count": 1,
   "metadata": {},
   "outputs": [],
   "source": [
    "from nltk.corpus import stopwords"
   ]
  },
  {
   "cell_type": "code",
   "execution_count": 2,
   "metadata": {
    "scrolled": true
   },
   "outputs": [
    {
     "name": "stdout",
     "output_type": "stream",
     "text": [
      "['below', 'out', 'o', 'what', 'we', \"mustn't\", \"doesn't\", 'their', 'did', 'd', 'me', 'this', 'itself', 'it', 'wouldn', \"wasn't\", 'y', 'once', \"aren't\", 'if', 'yourselves', 'than', 'here', 'all', 'himself', 'ourselves', 'further', 'll', 'he', 'of', 'into', 'above', 're', 'but', \"it's\", 'to', 'after', \"wouldn't\", 'she', 'too', \"you'd\", \"didn't\", 'weren', 'and', 'ma', 'any', \"she's\", 'most', \"haven't\", 'few', 'you', 'needn', 'such', 'where', \"you're\", 'them', \"you'll\", 'i', 'nor', 'shouldn', \"you've\", 'an', 'have', 'up', 'hadn', 've', 'herself', 'only', 'through', 'against', 'or', 'from', 'his', 'then', 'won', 'how', 'our', 'your', 'they', 'hasn', 'under', \"shouldn't\", 'some', 'does', 'as', 'again', 'hers', 'being', 'at', \"weren't\", 'with', 'not', 'had', 'theirs', \"hasn't\", 'myself', 'there', \"isn't\", 'when', 'themselves', 'do', 'that', 'can', 'yourself', 'down', 'before', 'no', 'mightn', \"couldn't\", 'ain', 'him', 'between', 'both', 'by', 'don', 'each', 'which', 'whom', 'over', 'own', 'aren', 'be', \"mightn't\", 'been', 'in', 'more', 'will', 'because', 'didn', 'having', 'haven', 'isn', \"should've\", 'until', 'doesn', 'were', 'couldn', 'my', 'am', 'just', 'who', 'doing', 'should', 'mustn', 's', 'now', 'are', 'is', 'while', \"don't\", 'so', \"won't\", 'wasn', 'these', 'on', 'her', 'its', 'for', 'off', 'm', 'yours', 'has', 'other', \"hadn't\", \"needn't\", \"shan't\", \"that'll\", 't', 'was', 'very', 'why', 'a', 'ours', 'the', 'same', 'those', 'shan', 'during', 'about']\n"
     ]
    }
   ],
   "source": [
    "stop_words=list(set(stopwords.words('english')))\n",
    "print(stop_words)"
   ]
  },
  {
   "cell_type": "markdown",
   "metadata": {},
   "source": [
    "## case normalization"
   ]
  },
  {
   "cell_type": "code",
   "execution_count": 3,
   "metadata": {},
   "outputs": [
    {
     "name": "stdout",
     "output_type": "stream",
     "text": [
      "False Before Nomalization\n",
      "True After Nomalization\n"
     ]
    }
   ],
   "source": [
    "string_1='This course on AI is a good course, where we will try to cover multiple concepts.'\n",
    "string_2='This course on AI is a Good Course, where We will try to cover multiple Concepts.'\n",
    "\n",
    "print(string_1==string_2,'Before Nomalization')\n",
    "\n",
    "string_1=string_1.lower()\n",
    "string_2=string_2.lower()\n",
    "\n",
    "print(string_1==string_2,'After Nomalization')"
   ]
  },
  {
   "cell_type": "code",
   "execution_count": 4,
   "metadata": {},
   "outputs": [
    {
     "name": "stdout",
     "output_type": "stream",
     "text": [
      "False Before Normalization\n",
      "i like avenger but not a great movie for grown ups\n",
      "i likes avenger but not a great movie for grown ups\n"
     ]
    }
   ],
   "source": [
    "spel_1='i like avenger but not a Great Movie for grown-ups'\n",
    "spel_2='i likes avenger but not a great movie for grown ups'\n",
    "\n",
    "print(spel_1==spel_2,'Before Normalization')\n",
    "\n",
    "#case normalisation\n",
    "spel_1=spel_1.lower()\n",
    "spel_2=spel_2.lower()\n",
    "\n",
    "#Replacing\n",
    "spel_1=spel_1.replace('-',\" \")\n",
    "spel_2=spel_2.replace(' ',\" \")\n",
    "\n",
    "print(spel_1)\n",
    "print(spel_2)"
   ]
  },
  {
   "cell_type": "markdown",
   "metadata": {},
   "source": [
    "## Stemming and Lemmatisation"
   ]
  },
  {
   "cell_type": "code",
   "execution_count": 5,
   "metadata": {},
   "outputs": [],
   "source": [
    "# stemming and Lemmatization of a sentence\n",
    "#stemming\n",
    "from nltk.stem import PorterStemmer\n",
    "ps=PorterStemmer()\n",
    "\n",
    "#Lemmatization\n",
    "from nltk.stem import WordNetLemmatizer\n",
    "lema=WordNetLemmatizer()"
   ]
  },
  {
   "cell_type": "code",
   "execution_count": 6,
   "metadata": {},
   "outputs": [
    {
     "name": "stdout",
     "output_type": "stream",
     "text": [
      "['i', 'like', 'avenger', 'but', 'not', 'a', 'great', 'movie', 'for', 'grown', 'ups']\n",
      "['i', 'likes', 'avenger', 'but', 'not', 'a', 'great', 'movie', 'for', 'grown', 'ups']\n"
     ]
    }
   ],
   "source": [
    "spel_1=spel_1.split()\n",
    "spel_2=spel_2.split()\n",
    "print(spel_1)\n",
    "print(spel_2)"
   ]
  },
  {
   "cell_type": "code",
   "execution_count": 7,
   "metadata": {},
   "outputs": [
    {
     "name": "stdout",
     "output_type": "stream",
     "text": [
      "['i', 'like', 'aveng', 'but', 'not', 'a', 'great', 'movi', 'for', 'grown', 'up']\n",
      "['i', 'like', 'aveng', 'but', 'not', 'a', 'great', 'movi', 'for', 'grown', 'up']\n"
     ]
    }
   ],
   "source": [
    "stemmed_spel_1=[]\n",
    "stemmed_spel_2=[]\n",
    "\n",
    "for word in spel_1:\n",
    "    stem_word=ps.stem(word)\n",
    "    stemmed_spel_1.append(stem_word)\n",
    "\n",
    "for word in spel_2:\n",
    "    stem_word=ps.stem(word)\n",
    "    stemmed_spel_2.append(stem_word)\n",
    "    \n",
    "    \n",
    "print(stemmed_spel_1)\n",
    "print(stemmed_spel_2)"
   ]
  },
  {
   "cell_type": "code",
   "execution_count": 8,
   "metadata": {},
   "outputs": [
    {
     "name": "stdout",
     "output_type": "stream",
     "text": [
      "i like aveng but not a great movi for grown up\n",
      "i like aveng but not a great movi for grown up\n"
     ]
    }
   ],
   "source": [
    "cleaned_sent_1=\" \".join(stemmed_spel_1)\n",
    "cleaned_sent_2=\" \".join(stemmed_spel_2)\n",
    "\n",
    "print(cleaned_sent_1)\n",
    "print(cleaned_sent_2)"
   ]
  },
  {
   "cell_type": "code",
   "execution_count": 9,
   "metadata": {},
   "outputs": [
    {
     "name": "stdout",
     "output_type": "stream",
     "text": [
      "True\n"
     ]
    }
   ],
   "source": [
    "print(cleaned_sent_1==cleaned_sent_2)"
   ]
  },
  {
   "cell_type": "code",
   "execution_count": 10,
   "metadata": {},
   "outputs": [
    {
     "name": "stdout",
     "output_type": "stream",
     "text": [
      "dy after stemming\n",
      "Dying after lemmatizing\n"
     ]
    }
   ],
   "source": [
    "#stemming and lemmatization of a word\n",
    "stem_word=ps.stem('Dying')\n",
    "lem_word=lema.lemmatize('Dying')\n",
    "\n",
    "print(stem_word,'after stemming')\n",
    "print(lem_word,'after lemmatizing')"
   ]
  },
  {
   "cell_type": "code",
   "execution_count": 11,
   "metadata": {},
   "outputs": [],
   "source": [
    "# Lemmatization using def function\n",
    "spel_1='i like avenger but not a Great Movie for grown-ups'\n",
    "spel_2='i likes avenger but not a great movie for grown ups'\n",
    "\n",
    "def apply_lema(sentence):\n",
    "    clean_list=[]\n",
    "    sentence=sentence.lower()\n",
    "    sentence=sentence.replace('-',' ')\n",
    "    sentence=sentence.split()\n",
    "    for word in sentence:\n",
    "        word=lema.lemmatize(word)\n",
    "        clean_list.append(word)\n",
    "    clean_sent=\" \".join(clean_list)\n",
    "    return clean_sent\n",
    "    "
   ]
  },
  {
   "cell_type": "code",
   "execution_count": 12,
   "metadata": {},
   "outputs": [
    {
     "name": "stdout",
     "output_type": "stream",
     "text": [
      "i like avenger but not a great movie for grown ups\n",
      "i like avenger but not a great movie for grown ups\n"
     ]
    }
   ],
   "source": [
    "clean_spel_1=apply_lema(spel_1)\n",
    "clean_spel_2=apply_lema(spel_2)\n",
    "\n",
    "print(clean_spel_1)\n",
    "print(clean_spel_2)"
   ]
  },
  {
   "cell_type": "markdown",
   "metadata": {},
   "source": [
    "## Split "
   ]
  },
  {
   "cell_type": "code",
   "execution_count": 13,
   "metadata": {},
   "outputs": [
    {
     "name": "stdout",
     "output_type": "stream",
     "text": [
      "['This mobile ', ' is good, but display ', ' is not good']\n"
     ]
    }
   ],
   "source": [
    "ugc_1='This mobile - is good, but display - is not good'\n",
    "ugc_1=ugc_1.split('-')\n",
    "print(ugc_1)"
   ]
  },
  {
   "cell_type": "code",
   "execution_count": 14,
   "metadata": {},
   "outputs": [
    {
     "name": "stdout",
     "output_type": "stream",
     "text": [
      "This_Is_Byom_Speaking_about_rafale\n"
     ]
    }
   ],
   "source": [
    "dummy_list=['This','Is','Byom','Speaking','about','rafale']\n",
    "dummy_list=\"_\".join(dummy_list)\n",
    "print(dummy_list)"
   ]
  },
  {
   "cell_type": "code",
   "execution_count": 15,
   "metadata": {},
   "outputs": [],
   "source": [
    "def remove_stopwords(sentence):\n",
    "    stop_words=set(stopwords.words('english'))\n",
    "    modified_stop_words=list(stop_words)\n",
    "    \n",
    "    \n",
    "    sentence=sentence.split()\n",
    "    \n",
    "    clean_sentence=[]\n",
    "    for word in sentence:\n",
    "        word=word.lower()\n",
    "        if word in set(modified_stop_words):\n",
    "            pass\n",
    "        else:\n",
    "            clean_sentence.append(word)\n",
    "        \n",
    "    clean_sentence=\" \".join(clean_sentence)\n",
    "        \n",
    "    return clean_sentence"
   ]
  },
  {
   "cell_type": "code",
   "execution_count": 16,
   "metadata": {},
   "outputs": [
    {
     "name": "stdout",
     "output_type": "stream",
     "text": [
      "good example case sensitivity\n"
     ]
    }
   ],
   "source": [
    "ugc_clean_1=remove_stopwords('This Is a Good example of case sensitivity')\n",
    "print(ugc_clean_1)"
   ]
  },
  {
   "cell_type": "markdown",
   "metadata": {},
   "source": [
    "## Strip"
   ]
  },
  {
   "cell_type": "code",
   "execution_count": 17,
   "metadata": {},
   "outputs": [
    {
     "name": "stdout",
     "output_type": "stream",
     "text": [
      "False Before cleaning\n",
      "True After cleaning\n"
     ]
    }
   ],
   "source": [
    "#strip space replace\n",
    "\n",
    "a=\"space extra space\"\n",
    "b=\"space  extra  space\"\n",
    "\n",
    "print(a==b,'Before cleaning')\n",
    "\n",
    "b=b.replace('  ',' ')\n",
    "\n",
    "print(a==b,'After cleaning')"
   ]
  },
  {
   "cell_type": "code",
   "execution_count": 18,
   "metadata": {},
   "outputs": [
    {
     "name": "stdout",
     "output_type": "stream",
     "text": [
      "5  Byom\n",
      "4 Byom\n"
     ]
    }
   ],
   "source": [
    "random_string=\" Byom\"\n",
    "print(len(random_string),\" Byom\")\n",
    "stripping=random_string.strip()\n",
    "print(len(stripping),\"Byom\")"
   ]
  },
  {
   "cell_type": "code",
   "execution_count": 19,
   "metadata": {},
   "outputs": [
    {
     "name": "stdout",
     "output_type": "stream",
     "text": [
      "Byom Kesh Jha\n"
     ]
    }
   ],
   "source": [
    "a='byom Kesh Jha'\n",
    "\n",
    "a=a.replace('b','B')\n",
    "\n",
    "print(a)"
   ]
  }
 ],
 "metadata": {
  "kernelspec": {
   "display_name": "Python 3",
   "language": "python",
   "name": "python3"
  },
  "language_info": {
   "codemirror_mode": {
    "name": "ipython",
    "version": 3
   },
   "file_extension": ".py",
   "mimetype": "text/x-python",
   "name": "python",
   "nbconvert_exporter": "python",
   "pygments_lexer": "ipython3",
   "version": "3.8.5"
  }
 },
 "nbformat": 4,
 "nbformat_minor": 4
}
