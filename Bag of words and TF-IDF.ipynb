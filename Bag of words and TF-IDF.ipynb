{
 "cells": [
  {
   "cell_type": "code",
   "execution_count": 1,
   "metadata": {},
   "outputs": [],
   "source": [
    "import numpy as np\n",
    "from sklearn.feature_extraction.text import CountVectorizer,TfidfVectorizer"
   ]
  },
  {
   "cell_type": "code",
   "execution_count": 2,
   "metadata": {},
   "outputs": [],
   "source": [
    "reviews = [\"I bought this product this is good\",\n",
    "           \"This product is good\",\n",
    "           \"This is not worth\",\n",
    "           \"I will recommend this product to everyone\"]\n",
    "test_reviews = [\"I bought this mobile product this is good product\",\n",
    "                \"I will recommend this product to everyone add\"]"
   ]
  },
  {
   "cell_type": "markdown",
   "metadata": {},
   "source": [
    "## Bag of Words"
   ]
  },
  {
   "cell_type": "code",
   "execution_count": 3,
   "metadata": {},
   "outputs": [],
   "source": [
    "#countvectorizer for Bag of Words approach\n",
    "count_vectorizer=CountVectorizer()"
   ]
  },
  {
   "cell_type": "code",
   "execution_count": 4,
   "metadata": {},
   "outputs": [
    {
     "data": {
      "text/plain": [
       "CountVectorizer()"
      ]
     },
     "execution_count": 4,
     "metadata": {},
     "output_type": "execute_result"
    }
   ],
   "source": [
    "count_vectorizer.fit(reviews)"
   ]
  },
  {
   "cell_type": "code",
   "execution_count": 5,
   "metadata": {},
   "outputs": [
    {
     "data": {
      "text/plain": [
       "{'bought': 0,\n",
       " 'this': 7,\n",
       " 'product': 5,\n",
       " 'is': 3,\n",
       " 'good': 2,\n",
       " 'not': 4,\n",
       " 'worth': 10,\n",
       " 'will': 9,\n",
       " 'recommend': 6,\n",
       " 'to': 8,\n",
       " 'everyone': 1}"
      ]
     },
     "execution_count": 5,
     "metadata": {},
     "output_type": "execute_result"
    }
   ],
   "source": [
    "#This gives positions of words according to alphabetical order\n",
    "count_vectorizer.vocabulary_"
   ]
  },
  {
   "cell_type": "code",
   "execution_count": 6,
   "metadata": {},
   "outputs": [
    {
     "name": "stdout",
     "output_type": "stream",
     "text": [
      "[[1 0 1 1 0 1 0 2 0 0 0]\n",
      " [0 0 1 1 0 1 0 1 0 0 0]\n",
      " [0 0 0 1 1 0 0 1 0 0 1]\n",
      " [0 1 0 0 0 1 1 1 1 1 0]]\n"
     ]
    }
   ],
   "source": [
    "#Vectors of reviews using Bag Of Words\n",
    "review_vectors=count_vectorizer.transform(reviews)\n",
    "print(review_vectors.toarray())"
   ]
  },
  {
   "cell_type": "code",
   "execution_count": 7,
   "metadata": {},
   "outputs": [
    {
     "name": "stdout",
     "output_type": "stream",
     "text": [
      "[[1 0 1 1 0 2 0 2 0 0 0]\n",
      " [0 1 0 0 0 1 1 1 1 1 0]]\n"
     ]
    }
   ],
   "source": [
    "#Vectors of test_reviews using Bag Of Words\n",
    "test_review_vectors=count_vectorizer.transform(test_reviews)\n",
    "print(test_review_vectors.toarray())"
   ]
  },
  {
   "cell_type": "markdown",
   "metadata": {},
   "source": [
    "## TF-IDF "
   ]
  },
  {
   "cell_type": "code",
   "execution_count": 8,
   "metadata": {},
   "outputs": [],
   "source": [
    "#creating vectors using TF-IDF approach\n",
    "tfidf=TfidfVectorizer()"
   ]
  },
  {
   "cell_type": "code",
   "execution_count": 9,
   "metadata": {},
   "outputs": [
    {
     "data": {
      "text/plain": [
       "TfidfVectorizer()"
      ]
     },
     "execution_count": 9,
     "metadata": {},
     "output_type": "execute_result"
    }
   ],
   "source": [
    "tfidf.fit(reviews)"
   ]
  },
  {
   "cell_type": "code",
   "execution_count": 10,
   "metadata": {},
   "outputs": [
    {
     "name": "stdout",
     "output_type": "stream",
     "text": [
      "[[0.53257171 0.         0.41988565 0.33993362 0.         0.33993362\n",
      "  0.         0.55583602 0.         0.         0.        ]\n",
      " [0.         0.         0.60313701 0.48829139 0.         0.48829139\n",
      "  0.         0.39921021 0.         0.         0.        ]\n",
      " [0.         0.         0.         0.38991559 0.61087812 0.\n",
      "  0.         0.31878155 0.         0.         0.61087812]\n",
      " [0.         0.46226355 0.         0.         0.         0.29505684\n",
      "  0.46226355 0.2412283  0.46226355 0.46226355 0.        ]]\n"
     ]
    }
   ],
   "source": [
    "#Vectors using TF-IDF\n",
    "tfidf_review_vector=tfidf.transform(reviews)\n",
    "print(tfidf_review_vector.toarray())"
   ]
  },
  {
   "cell_type": "code",
   "execution_count": 11,
   "metadata": {},
   "outputs": [
    {
     "name": "stdout",
     "output_type": "stream",
     "text": [
      "[[0.45893203 0.         0.36182728 0.29293037 0.         0.58586074\n",
      "  0.         0.47897954 0.         0.         0.        ]\n",
      " [0.         0.46226355 0.         0.         0.         0.29505684\n",
      "  0.46226355 0.2412283  0.46226355 0.46226355 0.        ]]\n"
     ]
    }
   ],
   "source": [
    "#Vectors of test_reviews using TF-IDF\n",
    "tfidf_test_review_vector=tfidf.transform(test_reviews)\n",
    "print(tfidf_test_review_vector.toarray())"
   ]
  },
  {
   "cell_type": "markdown",
   "metadata": {},
   "source": [
    "\n",
    "## TF-IDF with N-gram"
   ]
  },
  {
   "cell_type": "code",
   "execution_count": 12,
   "metadata": {
    "scrolled": true
   },
   "outputs": [
    {
     "data": {
      "text/plain": [
       "TfidfVectorizer(ngram_range=(2, 3))"
      ]
     },
     "execution_count": 12,
     "metadata": {},
     "output_type": "execute_result"
    }
   ],
   "source": [
    "#creating Vectors using TF-IDF with N-gram approach\n",
    "tfidf_n=TfidfVectorizer(ngram_range=(2,3))\n",
    "tfidf_n.fit(reviews)"
   ]
  },
  {
   "cell_type": "code",
   "execution_count": 13,
   "metadata": {},
   "outputs": [
    {
     "name": "stdout",
     "output_type": "stream",
     "text": [
      "{'bought this': 0, 'this product': 17, 'product this': 8, 'this is': 14, 'is good': 2, 'bought this product': 1, 'this product this': 19, 'product this is': 9, 'this is good': 15, 'product is': 6, 'this product is': 18, 'product is good': 7, 'is not': 3, 'not worth': 5, 'this is not': 16, 'is not worth': 4, 'will recommend': 22, 'recommend this': 12, 'product to': 10, 'to everyone': 21, 'will recommend this': 23, 'recommend this product': 13, 'this product to': 20, 'product to everyone': 11}\n"
     ]
    }
   ],
   "source": [
    "print(tfidf_n.vocabulary_)"
   ]
  },
  {
   "cell_type": "code",
   "execution_count": 14,
   "metadata": {},
   "outputs": [
    {
     "name": "stdout",
     "output_type": "stream",
     "text": [
      "[[0.36153669 0.36153669 0.28503968 0.         0.         0.\n",
      "  0.         0.         0.36153669 0.36153669 0.         0.\n",
      "  0.         0.         0.28503968 0.36153669 0.         0.23076418\n",
      "  0.         0.36153669 0.         0.         0.         0.        ]\n",
      " [0.         0.         0.39278432 0.         0.         0.\n",
      "  0.49819711 0.49819711 0.         0.         0.         0.\n",
      "  0.         0.         0.         0.         0.         0.31799276\n",
      "  0.49819711 0.         0.         0.         0.         0.        ]\n",
      " [0.         0.         0.         0.46516193 0.46516193 0.46516193\n",
      "  0.         0.         0.         0.         0.         0.\n",
      "  0.         0.         0.36673901 0.         0.46516193 0.\n",
      "  0.         0.         0.         0.         0.         0.        ]\n",
      " [0.         0.         0.         0.         0.         0.\n",
      "  0.         0.         0.         0.         0.34488069 0.34488069\n",
      "  0.34488069 0.34488069 0.         0.         0.         0.22013288\n",
      "  0.         0.         0.34488069 0.34488069 0.34488069 0.34488069]]\n"
     ]
    }
   ],
   "source": [
    "#Vectors using TF-IDF with N-gram\n",
    "tfidf_n_review_vector=tfidf_n.transform(reviews)\n",
    "print(tfidf_n_review_vector.toarray())"
   ]
  },
  {
   "cell_type": "code",
   "execution_count": 15,
   "metadata": {},
   "outputs": [
    {
     "name": "stdout",
     "output_type": "stream",
     "text": [
      "[[0.43671931 0.         0.34431452 0.         0.         0.\n",
      "  0.         0.         0.43671931 0.43671931 0.         0.\n",
      "  0.         0.         0.34431452 0.43671931 0.         0.\n",
      "  0.         0.         0.         0.         0.         0.        ]\n",
      " [0.         0.         0.         0.         0.         0.\n",
      "  0.         0.         0.         0.         0.34488069 0.34488069\n",
      "  0.34488069 0.34488069 0.         0.         0.         0.22013288\n",
      "  0.         0.         0.34488069 0.34488069 0.34488069 0.34488069]]\n"
     ]
    }
   ],
   "source": [
    "#Vectors for test_reviews using TF-IDF with N-gram\n",
    "tfidf_n_review_test_vector=tfidf_n.transform(test_reviews)\n",
    "print(tfidf_n_review_test_vector.toarray())"
   ]
  }
 ],
 "metadata": {
  "kernelspec": {
   "display_name": "Python 3",
   "language": "python",
   "name": "python3"
  },
  "language_info": {
   "codemirror_mode": {
    "name": "ipython",
    "version": 3
   },
   "file_extension": ".py",
   "mimetype": "text/x-python",
   "name": "python",
   "nbconvert_exporter": "python",
   "pygments_lexer": "ipython3",
   "version": "3.8.5"
  }
 },
 "nbformat": 4,
 "nbformat_minor": 4
}
